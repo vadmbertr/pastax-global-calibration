{
 "cells": [
  {
   "cell_type": "code",
   "execution_count": null,
   "id": "20ab5b26",
   "metadata": {},
   "outputs": [],
   "source": [
    "import equinox as eqx\n",
    "import h5py\n",
    "import jax\n",
    "import jax.numpy as jnp\n",
    "import numpy as np\n",
    "\n",
    "from pastax.gridded import Gridded\n",
    "from pastax.simulator import DeterministicSimulator\n",
    "from pastax.trajectory import Location\n",
    "\n",
    "from src.dynamics.linear_deterministic import LinearDeterministic"
   ]
  },
  {
   "cell_type": "code",
   "execution_count": 2,
   "id": "8f50377b",
   "metadata": {},
   "outputs": [],
   "source": [
    "jax.config.update(\"jax_enable_x64\", True)"
   ]
  },
  {
   "cell_type": "code",
   "execution_count": null,
   "id": "2e8cbe5a",
   "metadata": {},
   "outputs": [],
   "source": [
    "f = h5py.File(\"/summer/meom/workdir/bertrava/gdp-uc_2010-01-01_2011-01-01.hdf5\", \"r\")"
   ]
  },
  {
   "cell_type": "code",
   "execution_count": null,
   "id": "e0264d07",
   "metadata": {},
   "outputs": [],
   "source": [
    "traj_len = f[\"gdp\"][0][0].size\n",
    "uc_shape = f[\"uc\"][0][0].shape"
   ]
  },
  {
   "cell_type": "code",
   "execution_count": null,
   "id": "12f9b0ac",
   "metadata": {},
   "outputs": [],
   "source": [
    "f_out = h5py.File(\"/summer/meom/workdir/bertrava/gdp-uc_idealized_2010-01-01_2011-01-01.hdf5\", \"w\")"
   ]
  },
  {
   "cell_type": "code",
   "execution_count": 6,
   "id": "e5fcc896",
   "metadata": {},
   "outputs": [],
   "source": [
    "n_samples = 10"
   ]
  },
  {
   "cell_type": "code",
   "execution_count": 7,
   "id": "ae8aa0f8",
   "metadata": {},
   "outputs": [],
   "source": [
    "gdp_ds = f_out.create_dataset(\n",
    "    \"gdp\",\n",
    "    (n_samples,),\n",
    "    dtype=np.dtype(\n",
    "        [\n",
    "            (\"lat\", \"f4\", (traj_len,)), \n",
    "            (\"lon\", \"f4\", (traj_len,)), \n",
    "            (\"time\", \"i4\", (traj_len,)), \n",
    "            (\"id\", \"i4\")\n",
    "        ]\n",
    "    ),\n",
    "    compression=\"lzf\"\n",
    ")"
   ]
  },
  {
   "cell_type": "code",
   "execution_count": 8,
   "id": "751f8845",
   "metadata": {},
   "outputs": [],
   "source": [
    "def create_field_dataset(f_, name, time_len, lat_len, lon_len):\n",
    "    return f_.create_dataset(\n",
    "        name,\n",
    "        (n_samples,),\n",
    "        chunks=(1,),\n",
    "        dtype=np.dtype(\n",
    "            [\n",
    "                (\"u\", \"f4\", ( time_len, lat_len, lon_len)), \n",
    "                (\"v\", \"f4\", (time_len, lat_len, lon_len)), \n",
    "                (\"time\", \"i4\", (time_len)), \n",
    "                (\"lat\", \"f4\", (lat_len,)), \n",
    "                (\"lon\", \"f4\", (lon_len,)), \n",
    "            ]\n",
    "        ),\n",
    "        compression=\"lzf\"\n",
    "    )"
   ]
  },
  {
   "cell_type": "code",
   "execution_count": null,
   "id": "0d2fc7d7",
   "metadata": {},
   "outputs": [],
   "source": [
    "uc_ds = create_field_dataset(f_out, \"uc\", *uc_shape)"
   ]
  },
  {
   "cell_type": "code",
   "execution_count": 10,
   "id": "676f8d6e",
   "metadata": {},
   "outputs": [
    {
     "data": {
      "text/plain": [
       "(np.float64(0.028736656374492194), np.float64(0.019996845764446054))"
      ]
     },
     "execution_count": 10,
     "metadata": {},
     "output_type": "execute_result"
    }
   ],
   "source": [
    "uv_max = .15\n",
    "drag_coef, wave_coef = np.random.uniform(.01, .05, 2)\n",
    "drag_coef, wave_coef"
   ]
  },
  {
   "cell_type": "code",
   "execution_count": 11,
   "id": "8f8d59a9",
   "metadata": {},
   "outputs": [],
   "source": [
    "simulator = DeterministicSimulator()\n",
    "\n",
    "integration_horizon = 5  # days\n",
    "integration_dt = 60*30  # seconds\n",
    "n_steps = int(integration_horizon * 24 * 60 * 60 // integration_dt)"
   ]
  },
  {
   "cell_type": "code",
   "execution_count": 12,
   "id": "bfd2f842",
   "metadata": {},
   "outputs": [],
   "source": [
    "@eqx.filter_jit\n",
    "def to_gridded(u, v, time, lat, lon):\n",
    "    return Gridded.from_array(\n",
    "        {\"u\": u, \"v\": v},\n",
    "        time=time,\n",
    "        latitude=lat,\n",
    "        longitude=lon\n",
    "    )"
   ]
  },
  {
   "cell_type": "code",
   "execution_count": 13,
   "id": "d76c8148",
   "metadata": {},
   "outputs": [
    {
     "name": "stdout",
     "output_type": "stream",
     "text": [
      "Sample 1/10\n"
     ]
    },
    {
     "name": "stdout",
     "output_type": "stream",
     "text": [
      "Sample 2/10\n",
      "Sample 3/10\n",
      "Sample 4/10\n",
      "Sample 5/10\n",
      "Sample 6/10\n",
      "Sample 7/10\n",
      "Sample 8/10\n",
      "Sample 9/10\n",
      "Sample 10/10\n"
     ]
    }
   ],
   "source": [
    "for i in range(n_samples):\n",
    "    print(f\"Sample {i+1}/{n_samples}\")\n",
    "    \n",
    "    x0 = Location(np.asarray((f[\"gdp\"][i][0][0], f[\"gdp\"][i][1][0])))\n",
    "    ts = jnp.asarray(f[\"gdp\"][i][2], dtype=float)\n",
    "\n",
    "    uc_u, uc_v = np.random.normal(.1, .001, 2)\n",
    "    uh_u, uh_v = (\n",
    "        np.random.uniform(0, (uv_max - uc_u) / wave_coef, 1), \n",
    "        np.random.uniform(0, (uv_max - uc_v) / wave_coef, 1)\n",
    "    )\n",
    "    uw_u, uw_v = (uv_max - uc_u - uh_u * wave_coef) / drag_coef, (uv_max - uc_v - uh_v * wave_coef) / drag_coef\n",
    "\n",
    "    uc_u = np.full(uc_shape, uc_u)\n",
    "    uc_v = np.full(uc_shape, uc_v)\n",
    "    uw_u = np.full(uw_shape, uw_u)\n",
    "    uw_v = np.full(uw_shape, uw_v)\n",
    "    uh_u = np.full(uh_shape, uh_u)\n",
    "    uh_v = np.full(uh_shape, uh_v)\n",
    "\n",
    "    uc = to_gridded(\n",
    "        uc_u, uc_v, f[\"uc\"][i][2], f[\"uc\"][i][3], f[\"uc\"][i][4]\n",
    "    )\n",
    "    uw = to_gridded(\n",
    "        uw_u, uw_v, f[\"uw\"][i][2], f[\"uw\"][i][3], f[\"uw\"][i][4]\n",
    "    )\n",
    "    uh = to_gridded(\n",
    "        uh_u, uh_v, f[\"uh\"][i][2], f[\"uh\"][i][3], f[\"uh\"][i][4]\n",
    "    )\n",
    "\n",
    "    dynamics = LinearDeterministic.from_coefficients(drag_coef, wave_coef)\n",
    "\n",
    "    dt0, saveat, stepsize_controller, adjoint, n_steps, _ = simulator.get_diffeqsolve_best_args(\n",
    "        ts, integration_dt, n_steps=n_steps, constant_step_size=True, save_at_steps=False, ad_mode=\"forward\"\n",
    "    )\n",
    "\n",
    "    traj = simulator(\n",
    "        dynamics=dynamics, args=(uc, uw, uh), x0=x0, ts=ts, \n",
    "        dt0=dt0, saveat=saveat, stepsize_controller=stepsize_controller, adjoint=adjoint, max_steps=n_steps\n",
    "    )\n",
    "\n",
    "    gdp_ds[i] = (traj.latitudes.value, traj.longitudes.value, traj.times.value, 0)\n",
    "    uc_ds[i] = (\n",
    "        uc_u, uc_v, f[\"uc\"][i][2], f[\"uc\"][i][3], f[\"uc\"][i][4]\n",
    "    )\n",
    "    uw_ds[i] = (\n",
    "        uw_u, uw_v, f[\"uw\"][i][2], f[\"uw\"][i][3], f[\"uw\"][i][4]\n",
    "    )\n",
    "    uh_ds[i] = (\n",
    "        uh_u, uh_v, f[\"uh\"][i][2], f[\"uh\"][i][3], f[\"uh\"][i][4]\n",
    "    )"
   ]
  }
 ],
 "metadata": {
  "kernelspec": {
   "display_name": "Python 3 (ipykernel)",
   "language": "python",
   "name": "python3"
  },
  "language_info": {
   "codemirror_mode": {
    "name": "ipython",
    "version": 3
   },
   "file_extension": ".py",
   "mimetype": "text/x-python",
   "name": "python",
   "nbconvert_exporter": "python",
   "pygments_lexer": "ipython3",
   "version": "3.11.11"
  }
 },
 "nbformat": 4,
 "nbformat_minor": 5
}
